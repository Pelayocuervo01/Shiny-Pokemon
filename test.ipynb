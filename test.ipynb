{
 "cells": [
  {
   "cell_type": "markdown",
   "metadata": {},
   "source": [
    "### Why We Import These Dependencies for Image Classification\n",
    "\n",
    "- **`tensorflow.keras` (datasets, layers, models):**  \n",
    "  This module provides high-level APIs for building, training, and evaluating deep learning models. \n",
    "  - `datasets`: Offers popular datasets for testing and training (e.g., CIFAR-10, MNIST).\n",
    "  - `layers`: Contains pre-defined building blocks like Convolutional, Pooling, and Dense layers for constructing neural networks.\n",
    "  - `models`: Provides functionalities to define, compile, and train models using sequential or functional APIs.\n",
    "\n",
    "- **`cv2 (OpenCV):`**  \n",
    "  A powerful computer vision library used for image processing tasks such as reading, resizing, and transforming images. It is essential for:\n",
    "  - Preprocessing images before feeding them to the model.\n",
    "  - Applying augmentations to enhance the robustness of the model.\n",
    "  - Converting images to the correct format or size required by the model.\n",
    "\n",
    "- **`numpy:`**  \n",
    "  A fundamental library for numerical computations, especially useful for handling arrays and performing mathematical operations on image data. It helps with:\n",
    "  - Manipulating pixel values.\n",
    "  - Converting images into the required input format for the model.\n",
    "  - Efficient mathematical operations essential for neural network computations.\n",
    "\n",
    "- **`matplotlib.pyplot:`**  \n",
    "  A plotting library used for visualizing images, model training progress, and evaluation results. It helps in:\n",
    "  - Displaying training and validation accuracy/loss plots.\n",
    "  - Visualizing predictions or filters learned by the model.\n",
    "  - Providing a better understanding of model performance through visual representations.\n"
   ]
  },
  {
   "cell_type": "code",
   "execution_count": null,
   "metadata": {},
   "outputs": [],
   "source": [
    "from tensorflow.keras import datasets, layers, models\n",
    "import cv2 as cv \n",
    "import numpy as np \n",
    "import matplotlib.pyplot as plt "
   ]
  },
  {
   "cell_type": "code",
   "execution_count": null,
   "metadata": {},
   "outputs": [
    {
     "name": "stdout",
     "output_type": "stream",
     "text": [
      "Es shiny: True\n",
      "hola solaer\n"
     ]
    },
    {
     "ename": "",
     "evalue": "",
     "output_type": "error",
     "traceback": [
      "\u001b[1;31mThe Kernel crashed while executing code in the current cell or a previous cell. \n",
      "\u001b[1;31mPlease review the code in the cell(s) to identify a possible cause of the failure. \n",
      "\u001b[1;31mClick <a href='https://aka.ms/vscodeJupyterKernelCrash'>here</a> for more info. \n",
      "\u001b[1;31mView Jupyter <a href='command:jupyter.viewOutput'>log</a> for further details."
     ]
    }
   ],
   "source": [
    "#IDEA \n",
    "#Si yo pongo Pikachu, me pone el nombre del pokemon y si es shiny o no \n",
    "#Si yo pong Pikachu_Shiny me pone el nombre del pokemon y como es shiny dira que es shiny \n",
    "\n",
    "nombre_pokemon = input(\"Prediccion: \")\n",
    "nombre_pokemon = nombre_pokemon.replace(\"_\", \" \").split()\n",
    "\n",
    "es_shiny = False\n",
    "\n",
    "resultado = []\n",
    "\n",
    "for pokemon in nombre_pokemon:\n",
    "    resultado.append(pokemon)\n",
    "\n",
    "for shiny in resultado:\n",
    "    if shiny == \"shiny\":\n",
    "        es_shiny = True\n",
    "        shiny_index = resultado.index(\"shiny\")\n",
    "    else:\n",
    "        es_shiny = False\n",
    "\n",
    "print(f\"Es shiny: {es_shiny}\")\n",
    "if es_shiny == True:\n",
    "    print(\" \".join(resultado[:shiny_index]))\n",
    "\n",
    "else:\n",
    "    print(\" \".join(resultado))"
   ]
  },
  {
   "cell_type": "code",
   "execution_count": 1,
   "metadata": {},
   "outputs": [
    {
     "name": "stdout",
     "output_type": "stream",
     "text": [
      "Found 26 images belonging to 6 classes.\n",
      "Clases detectadas: {'poochyena': 0, 'poochyena_shiny': 1, 'wurmple': 2, 'wurmple_shiny': 3, 'zigzagoon': 4, 'zigzagoon_shiny': 5}\n"
     ]
    }
   ],
   "source": [
    "from tensorflow.keras.preprocessing.image import ImageDataGenerator\n",
    "\n",
    "train_dir = r\"C:\\Users\\Mildred\\Desktop\\Shiny Pokemon\\dataset\\train\"\n",
    "test_dir = r\"C:\\Users\\Mildred\\Desktop\\Shiny Pokemon\\dataset\\test\"\n",
    "\n",
    "train_datagen = ImageDataGenerator(rescale=1.0/255)\n",
    "train_generator = train_datagen.flow_from_directory(\n",
    "    train_dir,\n",
    "    target_size=(32, 32),\n",
    "    batch_size=32,\n",
    "    class_mode='sparse'\n",
    ")\n",
    "\n",
    "print(\"Clases detectadas:\", train_generator.class_indices)\n"
   ]
  }
 ],
 "metadata": {
  "kernelspec": {
   "display_name": "Python 3",
   "language": "python",
   "name": "python3"
  },
  "language_info": {
   "codemirror_mode": {
    "name": "ipython",
    "version": 3
   },
   "file_extension": ".py",
   "mimetype": "text/x-python",
   "name": "python",
   "nbconvert_exporter": "python",
   "pygments_lexer": "ipython3",
   "version": "3.11.0"
  }
 },
 "nbformat": 4,
 "nbformat_minor": 2
}
